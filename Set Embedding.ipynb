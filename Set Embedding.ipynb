{
 "cells": [
  {
   "cell_type": "code",
   "execution_count": 184,
   "metadata": {},
   "outputs": [
    {
     "name": "stdout",
     "output_type": "stream",
     "text": [
      "The autoreload extension is already loaded. To reload it, use:\n",
      "  %reload_ext autoreload\n",
      "1.4.0 cuda:7\n"
     ]
    }
   ],
   "source": [
    "%load_ext autoreload\n",
    "%autoreload 2\n",
    "\n",
    "import set_embedding\n",
    "import torch\n",
    "import random\n",
    "import json\n",
    "from pprint import pprint as pp\n",
    "from matplotlib import pyplot as plt\n",
    "from slack import *\n",
    "\n",
    "device = torch.device(7)\n",
    "print(torch.__version__, device)"
   ]
  },
  {
   "cell_type": "code",
   "execution_count": 162,
   "metadata": {},
   "outputs": [],
   "source": [
    "with open('contextualized-lines.json') as f:\n",
    "    contextual_dataset = json.load(f) "
   ]
  },
  {
   "cell_type": "code",
   "execution_count": 163,
   "metadata": {},
   "outputs": [
    {
     "name": "stdout",
     "output_type": "stream",
     "text": [
      "[{'c': ['e',\n",
      "        'month',\n",
      "        '_check_cf_error',\n",
      "        'cash_flows',\n",
      "        'apr',\n",
      "        'dt',\n",
      "        'dis_rate',\n",
      "        'apr',\n",
      "        'dt',\n",
      "        'total'],\n",
      "  'i': ['math'],\n",
      "  'l': 'for t, pmt in enumerate(cash_flows):'},\n",
      " {'c': ['kwargs',\n",
      "        'try',\n",
      "        'response',\n",
      "        'u',\n",
      "        'module',\n",
      "        'not',\n",
      "        'implemented',\n",
      "        'except',\n",
      "        'Exception',\n",
      "        'error'],\n",
      "  'i': ['logging', 're', 'include'],\n",
      "  'l': \"log.warn(u'error in module %s' % self.__module__)\"},\n",
      " {'c': ['import',\n",
      "        'sys',\n",
      "        'import',\n",
      "        're',\n",
      "        'import',\n",
      "        'codecs',\n",
      "        'import',\n",
      "        'commands',\n",
      "        'import',\n",
      "        'urllib2'],\n",
      "  'i': ['codecs', 'os', 'commands', 'sys', 're', 'urllib2', 'django'],\n",
      "  'l': 'import urllib'},\n",
      " {'c': ['orth2',\n",
      "        'pair_min',\n",
      "        'str',\n",
      "        'min',\n",
      "        'int',\n",
      "        'corpus',\n",
      "        'orth1',\n",
      "        'int',\n",
      "        'corpus',\n",
      "        'orth2'],\n",
      "  'i': [],\n",
      "  'l': 'counter += 1'},\n",
      " {'c': ['path',\n",
      "        'join',\n",
      "        'loader_package_path',\n",
      "        'filename',\n",
      "        'return',\n",
      "        'removed',\n",
      "        'False',\n",
      "        'loader_lock',\n",
      "        'acquire',\n",
      "        'try'],\n",
      "  'i': ['',\n",
      "        'threading',\n",
      "        'os',\n",
      "        'sys',\n",
      "        '=',\n",
      "        'json',\n",
      "        'zipimport',\n",
      "        're',\n",
      "        'shutil',\n",
      "        'zipfile',\n",
      "        'sublime',\n",
      "        'textwrap'],\n",
      "  'l': 'if swap_event.in_process() and '\n",
      "       'os.path.exists(new_loader_package_path):'},\n",
      " {'c': ['range',\n",
      "        'between',\n",
      "        'min',\n",
      "        'and',\n",
      "        'max',\n",
      "        'values',\n",
      "        '__rawRanges',\n",
      "        '__image',\n",
      "        'None',\n",
      "        '__test'],\n",
      "  'i': ['os', 'MorphoBact', 'sys', 'ij', 'java', 'sets', 'math', 'org'],\n",
      "  'l': 'def __init__(self, rois, img): #constructor initialize a private rois '\n",
      "       'array'},\n",
      " {'c': ['__name__',\n",
      "        'app',\n",
      "        'config',\n",
      "        'from_object',\n",
      "        'config',\n",
      "        'config_name',\n",
      "        'config',\n",
      "        'config_name',\n",
      "        'init_app',\n",
      "        'app'],\n",
      "  'i': ['os', 'logging', 'config', 'flask'],\n",
      "  'l': 'db.init_app(app)'},\n",
      " {'c': ['s',\n",
      "        'obj',\n",
      "        'record',\n",
      "        'student',\n",
      "        'get_profile',\n",
      "        'athena_id',\n",
      "        'def',\n",
      "        'lab_number',\n",
      "        'self',\n",
      "        'obj'],\n",
      "  'i': ['usersite', 'django'],\n",
      "  'l': 'return obj.record.lab'},\n",
      " {'c': ['if',\n",
      "        'key',\n",
      "        'in',\n",
      "        'self',\n",
      "        'business',\n",
      "        'return',\n",
      "        'self',\n",
      "        'business',\n",
      "        'key',\n",
      "        'else'],\n",
      "  'i': ['outgoingip', 'bs4', 'urllib2'],\n",
      "  'l': \"return 'Invalid Query'\"},\n",
      " {'c': ['from',\n",
      "        'blf_genetic',\n",
      "        'utils',\n",
      "        'import',\n",
      "        'BLFChromosome',\n",
      "        'from',\n",
      "        'blf_genetic',\n",
      "        'process_pool',\n",
      "        'import',\n",
      "        'ProcessPool'],\n",
      "  'i': ['multiprocessing', 'argparse', 'ippl', 'copy', 'blf_genetic', 'random'],\n",
      "  'l': 'def calculate_fitness(chromosome, key, cache, blf_data):'}]\n"
     ]
    }
   ],
   "source": [
    "pp(random.sample(contextual_dataset['train'], 10))"
   ]
  },
  {
   "cell_type": "code",
   "execution_count": 195,
   "metadata": {},
   "outputs": [],
   "source": [
    "s_emb = set_embedding.SetEmbedding(device, hidden_size=256)"
   ]
  },
  {
   "cell_type": "code",
   "execution_count": 181,
   "metadata": {},
   "outputs": [],
   "source": [
    "def random_string():\n",
    "    return ''.join(random.choices('abcdefghijklmnopqrstuvwxyz', k=random.randint(1, 2)))\n",
    "\n",
    "def generate_toy_dataset(n=10000, k=5):\n",
    "    ds = []\n",
    "    for i in range(n):\n",
    "        ds.append([random_string() for _ in range(k)])\n",
    "    return ds\n",
    "\n",
    "def filter_contexts(l, max_len=20):\n",
    "    ans = []\n",
    "    for c in l:\n",
    "        try:\n",
    "            for s in c:\n",
    "                if len(s) > max_len:\n",
    "                    raise ValueError(\"Too long\")\n",
    "                s.encode('ascii')\n",
    "            ans.append(c)\n",
    "        except:\n",
    "            pass\n",
    "    print('{}/{} could be encoded in ascii.'.format(len(ans), len(l)))\n",
    "    return ans\n",
    "\n",
    "toy_dataset = generate_toy_dataset()"
   ]
  },
  {
   "cell_type": "code",
   "execution_count": 196,
   "metadata": {},
   "outputs": [
    {
     "name": "stdout",
     "output_type": "stream",
     "text": [
      "1221331/1331721 could be encoded in ascii.\n",
      "1317256/1331721 could be encoded in ascii.\n",
      "1221331 examples of contexts.\n",
      "1317256 examples of imports.\n"
     ]
    }
   ],
   "source": [
    "contexts_dataset = filter_contexts([row['c'] for row in contextual_dataset['train']])\n",
    "imports_dataset = filter_contexts([row['i'] for row in contextual_dataset['train']])\n",
    "print(len(contexts_dataset), 'examples of contexts.')\n",
    "print(len(imports_dataset), 'examples of imports.')"
   ]
  },
  {
   "cell_type": "code",
   "execution_count": null,
   "metadata": {},
   "outputs": [],
   "source": [
    "# ds = generate_toy_dataset(50)\n",
    "loss_history_ids, train_accuracy_ids = s_emb.train(contexts_dataset, {'epochs': 1, 'lr': 1e-3})\n",
    "send_message('Context embedding with contrast sets experiment finished. Last accuracies: {}'.format(train_accuracy[-10:]))"
   ]
  },
  {
   "cell_type": "code",
   "execution_count": null,
   "metadata": {},
   "outputs": [],
   "source": [
    "loss_history_imps, train_accuracy_ids = s_emb.train(contexts_dataset, {'epochs': 1, 'lr': 1e-3})\n",
    "send_message('Context embedding with contrast sets experiment finished. Last accuracies: {}'.format(train_accuracy[-10:]))"
   ]
  },
  {
   "cell_type": "code",
   "execution_count": 186,
   "metadata": {},
   "outputs": [
    {
     "name": "stdout",
     "output_type": "stream",
     "text": [
      "Slack message: Context embedding experiment finished. Last losses: [0.014059717766940594, 0.017997566610574722, 0.014961681328713894, 0.04524751752614975, 0.006547451019287109, 0.005744104739278555, 0.036416105926036835, 0.01962323859333992, 0.03929419815540314, 0.043753646314144135] (status: 200)\n"
     ]
    }
   ],
   "source": []
  },
  {
   "cell_type": "code",
   "execution_count": 128,
   "metadata": {},
   "outputs": [
    {
     "data": {
      "text/plain": [
       "[<matplotlib.lines.Line2D at 0x7f47cd161eb8>]"
      ]
     },
     "execution_count": 128,
     "metadata": {},
     "output_type": "execute_result"
    },
    {
     "data": {
      "image/png": "[encoded data removed]",
      "text/plain": [
       "<Figure size 432x288 with 1 Axes>"
      ]
     },
     "metadata": {
      "needs_background": "light"
     },
     "output_type": "display_data"
    }
   ],
   "source": [
    "plt.plot(loss_history)"
   ]
  },
  {
   "cell_type": "code",
   "execution_count": 194,
   "metadata": {},
   "outputs": [
    {
     "name": "stdout",
     "output_type": "stream",
     "text": [
      "A: ['if', 'id', 'is', 'None', 'project', 'None', 'error', 'Invalid', 'URL', 'else']\n",
      "B: ['itemsize', 'channel1', 'width1', 'tesseract', 'SetCvImage', 'iplimage', 'api', 'text', 'api', 'GetUTF8Text']\n",
      "[0.999993085861206, 0.9999868869781494, 0.9998781681060791, 0.999984622001648, 0.9783746600151062, 0.999984622001648, 0.9993973970413208, 0.9997410178184509, 0.9993201494216919, 0.9999406337738037]\n",
      "[0.0, 0.0, 0.0, 0.0, 0.0, 0.0, 1.0, 1.0, 1.0, 0.0]\n",
      "[0.9999258518218994, 0.9988717436790466, 0.9996156692504883, 0.9959056377410889, 0.9774314761161804, 0.9959056377410889, 0.961309552192688, 0.01786724664270878, 0.9066974520683289, 0.998838484287262]\n",
      "[1.0, 1.0, 1.0, 1.0, 1.0, 1.0, 1.0, 1.0, 1.0, 1.0]\n"
     ]
    }
   ],
   "source": [
    "sa, sb = random.choices(contexts_dataset, k=2)\n",
    "\n",
    "embs = s_emb.embed([sa, sb])\n",
    "\n",
    "print('A:', sa)\n",
    "print('B:', sb)\n",
    "\n",
    "print(s_emb.query(embs[0], sa).cpu().tolist())\n",
    "print(s_emb.query(embs[0], sb).round().cpu().tolist())\n",
    "\n",
    "print(s_emb.query(embs[1], sa).cpu().tolist())\n",
    "print(s_emb.query(embs[1], sb).round().cpu().tolist())"
   ]
  }
 ],
 "metadata": {
  "kernelspec": {
   "display_name": "Python 3",
   "language": "python",
   "name": "python3"
  },
  "language_info": {
   "codemirror_mode": {
    "name": "ipython",
    "version": 3
   },
   "file_extension": ".py",
   "mimetype": "text/x-python",
   "name": "python",
   "nbconvert_exporter": "python",
   "pygments_lexer": "ipython3",
   "version": "3.6.10"
  }
 },
 "nbformat": 4,
 "nbformat_minor": 4
}
